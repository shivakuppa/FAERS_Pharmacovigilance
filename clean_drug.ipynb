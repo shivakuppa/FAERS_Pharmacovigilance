{
 "cells": [
  {
   "cell_type": "code",
   "execution_count": 1,
   "id": "2d8af678",
   "metadata": {},
   "outputs": [],
   "source": [
    "import pandas as pd\n",
    "import re"
   ]
  },
  {
   "cell_type": "code",
   "execution_count": 2,
   "id": "dc56796d",
   "metadata": {},
   "outputs": [
    {
     "name": "stdout",
     "output_type": "stream",
     "text": [
      "       ISR    DRUG_SEQ ROLE_COD            DRUGNAME  VAL_VBM ROUTE  \\\n",
      "0  4793437  1006499909       PS       GLUCOPHAGE XR        1  ORAL   \n",
      "1  4793437  1006499910       SS                EDTA        2   NaN   \n",
      "2  4793437  1006499911        C           AVANDAMET        1   NaN   \n",
      "3  4799889  1006520185       PS             EFFEXOR        1  ORAL   \n",
      "4  4799889  1006533234       SS  ETHANOL (ETHANOL,)        2  ORAL   \n",
      "\n",
      "                DOSE_VBM DECHAL RECHAL LOT_NUM  EXP_DT  NDA_NUM  VAR13  \n",
      "0                    NaN    NaN    NaN     NaN     NaN      NaN    NaN  \n",
      "1                    NaN    NaN    NaN     NaN     NaN      NaN    NaN  \n",
      "2                    NaN    NaN    NaN     NaN     NaN      NaN    NaN  \n",
      "3                   ORAL      D      D     NaN     NaN  20151.0    NaN  \n",
      "4  1 BOTTLE OF PORT ORAL      D      D     NaN     NaN      NaN    NaN  \n"
     ]
    }
   ],
   "source": [
    "df = pd.read_csv('faers/data/raw/2006/DRUG06Q1.TXT', sep='$')\n",
    "print(df.head())"
   ]
  },
  {
   "cell_type": "code",
   "execution_count": 3,
   "id": "e11c9607",
   "metadata": {},
   "outputs": [
    {
     "name": "stdout",
     "output_type": "stream",
     "text": [
      "<class 'pandas.core.frame.DataFrame'>\n",
      "Index: 336291 entries, 0 to 336518\n",
      "Data columns (total 13 columns):\n",
      " #   Column    Non-Null Count   Dtype  \n",
      "---  ------    --------------   -----  \n",
      " 0   ISR       336291 non-null  int64  \n",
      " 1   DRUG_SEQ  336291 non-null  int64  \n",
      " 2   ROLE_COD  336291 non-null  object \n",
      " 3   DRUGNAME  336291 non-null  string \n",
      " 4   VAL_VBM   336291 non-null  int64  \n",
      " 5   ROUTE     174687 non-null  object \n",
      " 6   DOSE_VBM  77393 non-null   object \n",
      " 7   DECHAL    56671 non-null   object \n",
      " 8   RECHAL    55715 non-null   object \n",
      " 9   LOT_NUM   16705 non-null   object \n",
      " 10  EXP_DT    4495 non-null    float64\n",
      " 11  NDA_NUM   85534 non-null   float64\n",
      " 12  VAR13     0 non-null       float64\n",
      "dtypes: float64(3), int64(3), object(6), string(1)\n",
      "memory usage: 35.9+ MB\n"
     ]
    },
    {
     "name": "stderr",
     "output_type": "stream",
     "text": [
      "/var/folders/cq/5z83380x2rj6r_ldbd5l4r100000gn/T/ipykernel_27910/3301206248.py:2: SettingWithCopyWarning: \n",
      "A value is trying to be set on a copy of a slice from a DataFrame.\n",
      "Try using .loc[row_indexer,col_indexer] = value instead\n",
      "\n",
      "See the caveats in the documentation: https://pandas.pydata.org/pandas-docs/stable/user_guide/indexing.html#returning-a-view-versus-a-copy\n",
      "  drugname_df['DRUGNAME'] = drugname_df['DRUGNAME'].fillna('').astype('string')\n"
     ]
    }
   ],
   "source": [
    "drugname_df = df[df['DRUGNAME'].str.contains(r'[A-Za-z0-9]', na=False)]\n",
    "drugname_df['DRUGNAME'] = drugname_df['DRUGNAME'].fillna('').astype('string')\n",
    "drugname_df.info()"
   ]
  },
  {
   "cell_type": "code",
   "execution_count": 4,
   "id": "c2d50b5a",
   "metadata": {},
   "outputs": [
    {
     "name": "stderr",
     "output_type": "stream",
     "text": [
      "/var/folders/cq/5z83380x2rj6r_ldbd5l4r100000gn/T/ipykernel_27910/3732365550.py:1: SettingWithCopyWarning: \n",
      "A value is trying to be set on a copy of a slice from a DataFrame.\n",
      "Try using .loc[row_indexer,col_indexer] = value instead\n",
      "\n",
      "See the caveats in the documentation: https://pandas.pydata.org/pandas-docs/stable/user_guide/indexing.html#returning-a-view-versus-a-copy\n",
      "  drugname_df['DRUGNAME'] = drugname_df['DRUGNAME'].str.strip().str.lower()\n",
      "/var/folders/cq/5z83380x2rj6r_ldbd5l4r100000gn/T/ipykernel_27910/3732365550.py:7: SettingWithCopyWarning: \n",
      "A value is trying to be set on a copy of a slice from a DataFrame.\n",
      "Try using .loc[row_indexer,col_indexer] = value instead\n",
      "\n",
      "See the caveats in the documentation: https://pandas.pydata.org/pandas-docs/stable/user_guide/indexing.html#returning-a-view-versus-a-copy\n",
      "  drugname_df['DRUGNAME'] = drugname_df['DRUGNAME'].str.replace(quote_chars, '', regex=True)\n",
      "/var/folders/cq/5z83380x2rj6r_ldbd5l4r100000gn/T/ipykernel_27910/3732365550.py:10: SettingWithCopyWarning: \n",
      "A value is trying to be set on a copy of a slice from a DataFrame.\n",
      "Try using .loc[row_indexer,col_indexer] = value instead\n",
      "\n",
      "See the caveats in the documentation: https://pandas.pydata.org/pandas-docs/stable/user_guide/indexing.html#returning-a-view-versus-a-copy\n",
      "  drugname_df['DRUGNAME'] = drugname_df['DRUGNAME'].str.strip()\n"
     ]
    }
   ],
   "source": [
    "drugname_df['DRUGNAME'] = drugname_df['DRUGNAME'].str.strip().str.lower()\n",
    "\n",
    "# Define a pattern that matches all common quote characters\n",
    "quote_chars = r'[\"“”‘’\\'`]'\n",
    "\n",
    "# Remove all types of quotes anywhere in the string\n",
    "drugname_df['DRUGNAME'] = drugname_df['DRUGNAME'].str.replace(quote_chars, '', regex=True)\n",
    "\n",
    "# Strip whitespace again just in case\n",
    "drugname_df['DRUGNAME'] = drugname_df['DRUGNAME'].str.strip()\n",
    "\n",
    "# Sort\n",
    "drugname_df = drugname_df.sort_values(by='DRUGNAME').reset_index(drop=True)"
   ]
  },
  {
   "cell_type": "code",
   "execution_count": 5,
   "metadata": {},
   "outputs": [
    {
     "name": "stdout",
     "output_type": "stream",
     "text": [
      "<class 'pandas.core.series.Series'>\n",
      "RangeIndex: 336291 entries, 0 to 336290\n",
      "Series name: DRUGNAME\n",
      "Non-Null Count   Dtype \n",
      "--------------   ----- \n",
      "336291 non-null  string\n",
      "dtypes: string(1)\n",
      "memory usage: 2.6 MB\n",
      "None\n"
     ]
    }
   ],
   "source": [
    "removed_df = drugname_df['DRUGNAME'].str.replace(r'[^A-Za-z0-9() -]', '', regex=True)\n",
    "removed_df.to_csv('removed_drugnames.csv', columns=['DRUGNAME'], index=False)\n",
    "print(removed_df.info())"
   ]
  },
  {
   "cell_type": "code",
   "execution_count": 6,
   "id": "14ff2e85",
   "metadata": {},
   "outputs": [
    {
     "name": "stdout",
     "output_type": "stream",
     "text": [
      "38552\n"
     ]
    }
   ],
   "source": [
    "# Select rows where DRUGNAME contains at least one non-alphanumeric character\n",
    "non_alnum_df = drugname_df[drugname_df['DRUGNAME'].str.contains(r'[^A-Za-z ]', na=False)]\n",
    "print(len(non_alnum_df))\n",
    "non_alnum_df.to_csv('nonalnum_drugnames.csv', columns=['DRUGNAME'], index=False)"
   ]
  },
  {
   "cell_type": "code",
   "execution_count": 7,
   "id": "cf265fc7",
   "metadata": {},
   "outputs": [],
   "source": [
    "# Get sorted unique drug names\n",
    "removed_df = removed_df.str.replace(r'\\(.*', '', regex=True).str.strip()\n",
    "removed_df = removed_df.str.replace(r' .+', '', regex=True).str.strip()\n",
    "\n",
    "\n",
    "drug_counts = removed_df.value_counts().reset_index()\n",
    "drug_counts.columns = ['DRUGNAME', 'COUNT']\n",
    "drug_counts.to_csv('drugname_counts.csv')\n",
    "\n"
   ]
  },
  {
   "cell_type": "code",
   "execution_count": 8,
   "id": "c92680f9",
   "metadata": {},
   "outputs": [],
   "source": [
    "# drug_counts = drug_counts[drug_counts['COUNT'] > 10]\n",
    "drug_counts = drug_counts[drug_counts['DRUGNAME'].str.contains(r'[A-Za-z]', na=False)]\n",
    "drugname_df = drugname_df[drugname_df['DRUGNAME'].isin(drug_counts['DRUGNAME'])]"
   ]
  },
  {
   "cell_type": "code",
   "execution_count": 9,
   "id": "6b93858e",
   "metadata": {},
   "outputs": [],
   "source": [
    "drugname_df.to_csv('drugnames.csv', columns=['DRUGNAME'], index=False)"
   ]
  }
 ],
 "metadata": {
  "kernelspec": {
   "display_name": "Python 3",
   "language": "python",
   "name": "python3"
  },
  "language_info": {
   "codemirror_mode": {
    "name": "ipython",
    "version": 3
   },
   "file_extension": ".py",
   "mimetype": "text/x-python",
   "name": "python",
   "nbconvert_exporter": "python",
   "pygments_lexer": "ipython3",
   "version": "3.12.0"
  }
 },
 "nbformat": 4,
 "nbformat_minor": 5
}
